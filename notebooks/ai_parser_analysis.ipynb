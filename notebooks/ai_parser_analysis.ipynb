{
  "cells": [
    {
      "cell_type": "markdown",
      "metadata": {},
      "source": [
        "# AI-Enhanced Ita\u00fa Parser Analysis\n",
        "\n",
        "This notebook provides interactive analysis of the AI-enhanced parser system."
      ]
    },
    {
      "cell_type": "code",
      "execution_count": null,
      "metadata": {},
      "source": [
        "import sys\n",
        "sys.path.append('..')\n",
        "\n",
        "from ai_enhanced_parser import AIEnhancedParser\n",
        "import pandas as pd\n",
        "import matplotlib.pyplot as plt\n",
        "\n",
        "# Initialize AI parser\n",
        "ai_parser = AIEnhancedParser()\n",
        "print('AI Parser ready for analysis!')"
      ]
    }
  ],
  "metadata": {
    "kernelspec": {
      "display_name": "Python 3",
      "language": "python",
      "name": "python3"
    }
  },
  "nbformat": 4,
  "nbformat_minor": 4
}